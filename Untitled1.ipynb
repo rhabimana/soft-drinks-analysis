{
 "cells": [
  {
   "cell_type": "code",
   "execution_count": 4,
   "id": "efe7533f-5b85-484e-9a1f-139ae30517a7",
   "metadata": {},
   "outputs": [
    {
     "ename": "ModuleNotFoundError",
     "evalue": "No module named 'shiny'",
     "output_type": "error",
     "traceback": [
      "\u001b[1;31m---------------------------------------------------------------------------\u001b[0m",
      "\u001b[1;31mModuleNotFoundError\u001b[0m                       Traceback (most recent call last)",
      "Cell \u001b[1;32mIn[4], line 1\u001b[0m\n\u001b[1;32m----> 1\u001b[0m \u001b[38;5;28;01mimport\u001b[39;00m \u001b[38;5;21;01mshiny\u001b[39;00m\n\u001b[0;32m      2\u001b[0m \u001b[38;5;28;01mimport\u001b[39;00m \u001b[38;5;21;01mpandas\u001b[39;00m \u001b[38;5;28;01mas\u001b[39;00m \u001b[38;5;21;01mpd\u001b[39;00m\n\u001b[0;32m      3\u001b[0m \u001b[38;5;28;01mimport\u001b[39;00m \u001b[38;5;21;01mplotly\u001b[39;00m\u001b[38;5;21;01m.\u001b[39;00m\u001b[38;5;21;01mexpress\u001b[39;00m \u001b[38;5;28;01mas\u001b[39;00m \u001b[38;5;21;01mpx\u001b[39;00m\n",
      "\u001b[1;31mModuleNotFoundError\u001b[0m: No module named 'shiny'"
     ]
    }
   ],
   "source": [
    "import shiny\n",
    "import pandas as pd\n",
    "import plotly.express as px"
   ]
  },
  {
   "cell_type": "code",
   "execution_count": null,
   "id": "dcceb8c4-3295-4e7f-a261-4e874a2a9e72",
   "metadata": {},
   "outputs": [],
   "source": [
    "# Sample data\n",
    "data = pd.DataFrame({\n",
    "    \"Category\": [\"A\", \"B\", \"C\", \"A\", \"B\", \"C\"],\n",
    "    \"Value\": [10, 15, 20, 25, 30, 35]\n",
    "})\n",
    "\n",
    "app_ui = shiny.ui.page_fluid(\n",
    "    shiny.ui.input_select(\"category\", \"Select Category:\", choices=data[\"Category\"].unique()),\n",
    "    shiny.ui.output_plot(\"bar_chart\")\n",
    ")\n",
    "\n",
    "def server(input, output, session):\n",
    "    @shiny.reactive.Calc\n",
    "    def filtered_data():\n",
    "        return data[data[\"Category\"] == input.category()]\n",
    "\n",
    "    @output\n",
    "    @shiny.render.plot\n",
    "    def bar_chart():\n",
    "        fig = px.bar(filtered_data(), x=\"Category\", y=\"Value\")\n",
    "        return fig\n",
    "\n",
    "app = shiny.App(app_ui, server)\n",
    "\n",
    "# Run the app\n",
    "app.run()"
   ]
  }
 ],
 "metadata": {
  "kernelspec": {
   "display_name": "Python 3 (ipykernel)",
   "language": "python",
   "name": "python3"
  },
  "language_info": {
   "codemirror_mode": {
    "name": "ipython",
    "version": 3
   },
   "file_extension": ".py",
   "mimetype": "text/x-python",
   "name": "python",
   "nbconvert_exporter": "python",
   "pygments_lexer": "ipython3",
   "version": "3.12.4"
  }
 },
 "nbformat": 4,
 "nbformat_minor": 5
}
