import pandas as pd
import seaborn as sns
import plotly
import matplotlib.pyplot as plt
import panel as pn
pn.extension()


pn.panel("Hello World").servable()



